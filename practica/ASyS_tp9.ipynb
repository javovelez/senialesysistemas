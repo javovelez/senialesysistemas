{
 "cells": [
  {
   "cell_type": "markdown",
   "metadata": {},
   "source": [
    "# Trabajo Práctico N$^\\circ$9: Transformada de Laplace"
   ]
  },
  {
   "cell_type": "markdown",
   "metadata": {},
   "source": [
    "Ejecutar antes que nada la siguiente celda que importa las libríeras necesarias"
   ]
  },
  {
   "cell_type": "code",
   "execution_count": 2,
   "metadata": {},
   "outputs": [],
   "source": [
    "import matplotlib.pyplot as plt\n",
    "import numpy as np"
   ]
  },
  {
   "cell_type": "markdown",
   "metadata": {},
   "source": [
    "Luego indicar si se desean guardar los gráficos de salida como imágenes .png y en que directorio"
   ]
  },
  {
   "cell_type": "code",
   "execution_count": 3,
   "metadata": {},
   "outputs": [],
   "source": [
    "PLOT=1 # Setear a 1 para guardar o a 0 para no guardar\n",
    "OUTPUT_PATH='/media/sf_asys/practica/2020/latex/tp9' # directorio de salida Fran\n",
    "#OUTPUT_PATH='/Users/pm/OneDrive - frm.utn.edu.ar/ASyS/practica/2020/latex/tp1' # directorio de salida Pablo"
   ]
  },
  {
   "cell_type": "markdown",
   "metadata": {},
   "source": [
    "Ej.15"
   ]
  },
  {
   "cell_type": "code",
   "execution_count": 25,
   "metadata": {
    "scrolled": true
   },
   "outputs": [
    {
     "data": {
      "image/png": "[encoded data removed]",
      "text/plain": [
       "<Figure size 432x288 with 1 Axes>"
      ]
     },
     "metadata": {
      "needs_background": "light"
     },
     "output_type": "display_data"
    }
   ],
   "source": [
    "Xz = [-2] # coord zeros\n",
    "Yz = [0]\n",
    "Xp = [-1,-3] # coord polos\n",
    "Yp = [0,0]\n",
    "plt.scatter(Xz,Yz,s=200,color='blue')\n",
    "plt.scatter(Xp,Yp,s=200, color='blue',marker='x')\n",
    "plt.xlim([-4,4])\n",
    "plt.ylim([-4,4])\n",
    "plt.grid('true')\n",
    "plt.axhline(y=0, color='k')\n",
    "plt.axvline(x=0, color='k')\n",
    "plt.xlabel('$\\sigma$')\n",
    "plt.ylabel('$j\\omega$')\n",
    "if PLOT == 1:\n",
    "    plt.savefig(OUTPUT_PATH+'/tp9_15.png')\n",
    "plt.show()"
   ]
  },
  {
   "cell_type": "code",
   "execution_count": null,
   "metadata": {},
   "outputs": [],
   "source": []
  }
 ],
 "metadata": {
  "kernelspec": {
   "display_name": "Python 3",
   "language": "python",
   "name": "python3"
  },
  "language_info": {
   "codemirror_mode": {
    "name": "ipython",
    "version": 3
   },
   "file_extension": ".py",
   "mimetype": "text/x-python",
   "name": "python",
   "nbconvert_exporter": "python",
   "pygments_lexer": "ipython3",
   "version": "3.7.4"
  }
 },
 "nbformat": 4,
 "nbformat_minor": 4
}
